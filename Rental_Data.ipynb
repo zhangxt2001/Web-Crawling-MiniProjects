{
 "cells": [
  {
   "cell_type": "code",
   "execution_count": 49,
   "id": "0fffb346",
   "metadata": {},
   "outputs": [],
   "source": [
    "import requests\n",
    "import re\n",
    "url = 'https://gz.lianjia.com/zufang/'\n",
    "header = {'User-Agent':'Mozilla/5.0 (Windows NT 10.0; Win64; x64) AppleWebKit/537.36 (KHTML, like Gecko) Chrome/111.0.0.0 Safari/537.36'}\n",
    "response = requests.get(url,headers=header)\n",
    "html = response.text"
   ]
  },
  {
   "cell_type": "code",
   "execution_count": 50,
   "id": "fcc9f5e1",
   "metadata": {},
   "outputs": [],
   "source": [
    "namere = re.compile('alt=\"(.*?)\"\\n')\n",
    "name = namere.findall(html) # returning a list with the findall method\n",
    "areare = re.compile('([0-9.]+)㎡\\n')\n",
    "area = areare.findall(html)\n",
    "pricere = re.compile('<em>([0-9.]+)</em> 元/月')\n",
    "price = pricere.findall(html)"
   ]
  },
  {
   "cell_type": "code",
   "execution_count": 51,
   "id": "c2b29581",
   "metadata": {},
   "outputs": [],
   "source": [
    "area = area[0:25]\n",
    "name = name[0:25]\n",
    "price = price[0:25]# due the website, there are only 26 prices shown"
   ]
  },
  {
   "cell_type": "code",
   "execution_count": 52,
   "id": "9f9864cf",
   "metadata": {},
   "outputs": [],
   "source": [
    "import pandas as pd\n",
    "datalist = []\n",
    "for i in range(len(name)):\n",
    "    datalist.append([name[i],area[i],price[i]]) #creating a 2-d list\n",
    "df = pd.DataFrame(datalist,columns=['Name','Area','Price']).set_index('Name')"
   ]
  },
  {
   "cell_type": "markdown",
   "id": "e7fefa1b",
   "metadata": {},
   "source": [
    "## Multiple Pages"
   ]
  },
  {
   "cell_type": "code",
   "execution_count": 62,
   "id": "9c276b3a",
   "metadata": {},
   "outputs": [
    {
     "name": "stdout",
     "output_type": "stream",
     "text": [
      "Retriving data from 1 th page\n",
      "Retriving data from 2 th page\n",
      "Retriving data from 3 th page\n",
      "Retriving data from 4 th page\n",
      "Retriving data from 5 th page\n",
      "Retriving data from 6 th page\n",
      "Retriving data from 7 th page\n",
      "Retriving data from 8 th page\n",
      "Retriving data from 9 th page\n",
      "Retriving data from 10 th page\n",
      "Finished retriving\n"
     ]
    }
   ],
   "source": [
    "import time\n",
    "import random\n",
    "data = pd.DataFrame()\n",
    "for i in range(1,11):\n",
    "    print('Retriving data from %d th page'%i)\n",
    "    baseurl = 'https://gz.lianjia.com/zufang/pg'\n",
    "    url = baseurl+str(i)+'/#contentList'\n",
    "    reponse = requests.get(url,headers=header)\n",
    "    html = reponse.text\n",
    "    namere = re.compile('alt=\"(.*?)\"\\n')\n",
    "    name = namere.findall(html) # returning a list with the findall method\n",
    "    areare = re.compile('([0-9.]+)㎡\\n')\n",
    "    area = areare.findall(html)\n",
    "    pricere = re.compile('<em>([0-9.]+)</em> 元/月')\n",
    "    price = pricere.findall(html)\n",
    "    area = area[0:25]\n",
    "    name = name[0:25]\n",
    "    price = price[0:25]\n",
    "    datalist = []\n",
    "    for i in range(len(price)):\n",
    "        datalist.append([name[i],area[i],price[i]])\n",
    "    df=pd.DataFrame(datalist)\n",
    "    data=pd.concat([data,df])\n",
    "    time.sleep(random.randint(6,7)) #delaying the execution of the program\n",
    "print('Finished retriving')"
   ]
  },
  {
   "cell_type": "code",
   "execution_count": 63,
   "id": "875b891f",
   "metadata": {},
   "outputs": [
    {
     "data": {
      "text/html": [
       "<div>\n",
       "<style scoped>\n",
       "    .dataframe tbody tr th:only-of-type {\n",
       "        vertical-align: middle;\n",
       "    }\n",
       "\n",
       "    .dataframe tbody tr th {\n",
       "        vertical-align: top;\n",
       "    }\n",
       "\n",
       "    .dataframe thead th {\n",
       "        text-align: right;\n",
       "    }\n",
       "</style>\n",
       "<table border=\"1\" class=\"dataframe\">\n",
       "  <thead>\n",
       "    <tr style=\"text-align: right;\">\n",
       "      <th></th>\n",
       "      <th>Area</th>\n",
       "      <th>Price</th>\n",
       "    </tr>\n",
       "    <tr>\n",
       "      <th>Name</th>\n",
       "      <th></th>\n",
       "      <th></th>\n",
       "    </tr>\n",
       "  </thead>\n",
       "  <tbody>\n",
       "    <tr>\n",
       "      <th>整租·敏捷锦绣天伦 3室2厅 南_敏捷锦绣天伦租房</th>\n",
       "      <td>90.00</td>\n",
       "      <td>3000</td>\n",
       "    </tr>\n",
       "    <tr>\n",
       "      <th>合租·万科柏悦湾 4居室 北卧_万科柏悦湾租房</th>\n",
       "      <td>12.00</td>\n",
       "      <td>2030</td>\n",
       "    </tr>\n",
       "    <tr>\n",
       "      <th>整租·佳润云凯雅寓 1室1厅 北_佳润云凯雅寓租房</th>\n",
       "      <td>41.00</td>\n",
       "      <td>2900</td>\n",
       "    </tr>\n",
       "    <tr>\n",
       "      <th>合租·萝岗和苑 5居室 北卧_萝岗和苑租房</th>\n",
       "      <td>10.90</td>\n",
       "      <td>1330</td>\n",
       "    </tr>\n",
       "    <tr>\n",
       "      <th>整租·阳光城悦然府 3室2厅 西南_阳光城悦然府租房</th>\n",
       "      <td>84.00</td>\n",
       "      <td>2200</td>\n",
       "    </tr>\n",
       "    <tr>\n",
       "      <th>...</th>\n",
       "      <td>...</td>\n",
       "      <td>...</td>\n",
       "    </tr>\n",
       "    <tr>\n",
       "      <th>整租·凯旋国际 1室0厅 南_凯旋国际租房</th>\n",
       "      <td>53.30</td>\n",
       "      <td>1500</td>\n",
       "    </tr>\n",
       "    <tr>\n",
       "      <th>整租·时代香海彼岸 3室2厅 南/北_时代香海彼岸租房</th>\n",
       "      <td>91.00</td>\n",
       "      <td>2000</td>\n",
       "    </tr>\n",
       "    <tr>\n",
       "      <th>合租·德欣小区 4居室 南卧_德欣小区租房</th>\n",
       "      <td>10.00</td>\n",
       "      <td>1860</td>\n",
       "    </tr>\n",
       "    <tr>\n",
       "      <th>整租·中冠大厦 3室1厅 南/北_中冠大厦租房</th>\n",
       "      <td>117.00</td>\n",
       "      <td>5200</td>\n",
       "    </tr>\n",
       "    <tr>\n",
       "      <th>合租·广州雅居乐花园剑桥郡 4居室 西北卧_广州雅居乐花园剑桥郡租房</th>\n",
       "      <td>16.00</td>\n",
       "      <td>1830</td>\n",
       "    </tr>\n",
       "  </tbody>\n",
       "</table>\n",
       "<p>250 rows × 2 columns</p>\n",
       "</div>"
      ],
      "text/plain": [
       "                                      Area Price\n",
       "Name                                            \n",
       "整租·敏捷锦绣天伦 3室2厅 南_敏捷锦绣天伦租房            90.00  3000\n",
       "合租·万科柏悦湾 4居室 北卧_万科柏悦湾租房              12.00  2030\n",
       "整租·佳润云凯雅寓 1室1厅 北_佳润云凯雅寓租房            41.00  2900\n",
       "合租·萝岗和苑 5居室 北卧_萝岗和苑租房                10.90  1330\n",
       "整租·阳光城悦然府 3室2厅 西南_阳光城悦然府租房           84.00  2200\n",
       "...                                    ...   ...\n",
       "整租·凯旋国际 1室0厅 南_凯旋国际租房                53.30  1500\n",
       "整租·时代香海彼岸 3室2厅 南/北_时代香海彼岸租房          91.00  2000\n",
       "合租·德欣小区 4居室 南卧_德欣小区租房                10.00  1860\n",
       "整租·中冠大厦 3室1厅 南/北_中冠大厦租房             117.00  5200\n",
       "合租·广州雅居乐花园剑桥郡 4居室 西北卧_广州雅居乐花园剑桥郡租房   16.00  1830\n",
       "\n",
       "[250 rows x 2 columns]"
      ]
     },
     "execution_count": 63,
     "metadata": {},
     "output_type": "execute_result"
    }
   ],
   "source": [
    "data.columns=['Name','Area','Price']\n",
    "data.set_index('Name')"
   ]
  }
 ],
 "metadata": {
  "kernelspec": {
   "display_name": "Python 3 (ipykernel)",
   "language": "python",
   "name": "python3"
  },
  "language_info": {
   "codemirror_mode": {
    "name": "ipython",
    "version": 3
   },
   "file_extension": ".py",
   "mimetype": "text/x-python",
   "name": "python",
   "nbconvert_exporter": "python",
   "pygments_lexer": "ipython3",
   "version": "3.10.10"
  }
 },
 "nbformat": 4,
 "nbformat_minor": 5
}
