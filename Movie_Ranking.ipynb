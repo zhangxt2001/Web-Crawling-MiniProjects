{
 "cells": [
  {
   "cell_type": "code",
   "execution_count": 1,
   "id": "a554c3c1",
   "metadata": {},
   "outputs": [],
   "source": [
    "import requests\n",
    "import re\n",
    "import pandas as pd\n",
    "url = 'https://www.maoyan.com/board?timeStamp=1678875843146&channelId=40011&index=1&signKey=69ecda792ffbf34cf2df231a4fcf18d8&sVersion=1&webdriver=false'\n",
    "header = {'User-Agent':'Mozilla/5.0 (Windows NT 10.0; Win64; x64) AppleWebKit/537.36 (KHTML, like Gecko) Chrome/111.0.0.0 Safari/537.36'}\n",
    "response = requests.get(url,headers=header)\n",
    "html = response.text"
   ]
  },
  {
   "cell_type": "code",
   "execution_count": 2,
   "id": "0f22d3f1",
   "metadata": {},
   "outputs": [
    {
     "data": {
      "text/plain": [
       "'<!DOCTYPE html>\\n\\n<!--[if IE 8]><html class=\"ie8\"><![endif]-->\\n<!--[if IE 9]><html class=\"ie9\"><![endif]-->\\n<!--[if gt IE 9]><!--><html><!--<![endif]-->\\n<head>\\n  <title>热映口碑榜 - 猫眼电影 - 一网打尽好电影</title>\\n  \\n  <link rel=\"dns-prefetch\" href=\"//p0.meituan.net\"  />\\n  <link rel=\"dns-prefetch\" href=\"//p1.meituan.net\"  />\\n  <link rel=\"dns-prefetch\" href=\"//ms0.meituan.net\" />\\n  <link rel=\"dns-prefetch\" href=\"//ms1.meituan.net\" />\\n  <link rel=\"dns-prefetch\" href=\"//lx.meituan.net\"/>\\n  <link rel=\"dns-prefetch\" href=\"//lx1.meituan.net\"/>\\n  <link rel=\"dns-prefetch\" href=\"//plx.meituan.com\"/>\\n\\n  \\n  <meta charset=\"utf-8\">\\n  <meta name=\"keywords\" content=\"猫眼电影,电影排行榜,热映口碑榜,最受期待榜,国内票房榜,北美票房榜,猫眼TOP100\">\\n  <meta name=\"description\" content=\"猫眼电影热门榜单,包括热映口碑榜,最受期待榜,国内票房榜,北美票房榜,猫眼TOP100,多维度为用户进行选片决策\">\\n  <meta http-equiv=\"cleartype\" content=\"yes\" />\\n  <meta http-equiv=\"X-UA-Compatible\" content=\"IE=edge\" />\\n  <meta name=\"renderer\" content=\"webkit\" />\\n\\n  <meta name=\"HandheldFriendly\" content=\"true\" />\\n  <meta name=\"format-detection\" content=\"email=no\" />\\n  <meta name=\"format-detection\" content=\"telephone=no\" />\\n  <meta name=\"viewport\" content=\"width=device-width, initial-scale=1\">\\n\\n  \\n  <script>\"use strict\";!function(){var i=0<arguments.length&&void 0!==arguments[0]?arguments[0]:\"_Owl_\",n=window;n[i]||(n[i]={isRunning:!1,isReady:!1,preTasks:[],dataSet:[],use:function(i,t){this.isReady&&n.Owl&&n.Owl[i](t),this.preTasks.push({api:i,data:[t]})},add:function(i){this.dataSet.push(i)},run:function(){var t=this;if(!this.isRunning){this.isRunning=!0;var i=n.onerror;n.onerror=function(){this.isReady||this.add({type:\"jsError\",data:arguments}),i&&i.apply(n,arguments)}.bind(this),(n.addEventListener||n.attachEvent)(\"error\",function(i){t.isReady||t.add({type:\"resError\",data:[i]})},!0)}}},n[i].run())}();</script>\\n  <script>\\n  cid = \"c_wx6zb55\";\\n  ci = 51;\\nval = {\"subnavId\":7};    window.system = {};\\n\\n  window.openPlatform = \\'\\';\\n  window.openPlatformSub = \\'\\';\\n  window.$mtsiFlag = \\'0\\';\\n  window.NODE_ENV = \\'production\\';\\n\\n  </script>\\n  <link rel=\"stylesheet\" href=\"//s3plus.meituan.net/v1/mss_e2821d7f0cfe4ac1bf9202ecf9590e67/cdn-prod/file:5788b470/common.2a536dd1.css\"/>\\n<link rel=\"stylesheet\" href=\"//s3plus.meituan.net/v1/mss_e2821d7f0cfe4ac1bf9202ecf9590e67/cdn-prod/file:5788b470/board-index.92a06072.css\"/>\\n  <script crossorigin=\"anonymous\" src=\"//s3plus.meituan.net/v1/mss_e2821d7f0cfe4ac1bf9202ecf9590e67/cdn-prod/file:5788b470/stat.b4e55d45.js\"></script>\\n  <script>if(window.devicePixelRatio >= 2) { document.write(\\'<link rel=\"stylesheet\" href=\"//s3plus.meituan.net/v1/mss_e2821d7f0cfe4ac1bf9202ecf9590e67/cdn-prod/file:5788b470/image-2x.8ba7074d.css\"/>\\') }</script>\\n  <style>\\n    @font-face{font-family: \"mtsi-font\";src:url(\"//s3plus.meituan.net/v1/mss_73a511b8f91f43d0bdae92584ea6330b/font/5b951999.eot\");src:url(\"//s3plus.meituan.net/v1/mss_73a511b8f91f43d0bdae92584ea6330b/font/5b951999.eot?#iefix\") format(\"embedded-opentype\"),url(\"//s3plus.meituan.net/v1/mss_73a511b8f91f43d0bdae92584ea6330b/font/5b951999.woff\");}\\n    .stonefont {\\n      font-family: mtsi-font;\\n    }\\n  </style>\\n  <script>\\n  var _hmt = _hmt || [];\\n  (function() {\\n  var hm = document.createElement(\"script\");\\n  hm.src = \"https://hm.baidu.com/hm.js?703e94591e87be68cc8da0da7cbd0be2\";\\n  var s = document.getElementsByTagName(\"script\")[0];\\n  s.parentNode.insertBefore(hm, s);\\n  })();\\n  </script>\\n</head>\\n<body>\\n\\n\\n<div class=\"header\">\\n  <div class=\"header-inner\">\\n          <a href=\"//www.maoyan.com\" class=\"logo\" data-act=\"icon-click\">猫眼电影</a>\\n        <div class=\"city-container\" data-val=\"{currentcityid:51 }\">\\n            <div class=\"city-selected\">\\n                <div class=\"city-name\">\\n                  宁波\\n                  <span class=\"caret\"></span>\\n                </div>\\n            </div>\\n            <div class=\"city-list\" data-val=\"{ localcityid: 51 }\">\\n                <div class=\"city-list-header\">定位城市：<a class=\"js-geo-city\" data-ci=\"51\">宁波</a></div>\\n            </div>\\n        </div>\\n\\n\\n        <div class=\"nav\">\\n            <div><a href=\"/\" data-act=\"home-click\"  >首页</a></div>\\n            <div><a href=\"/films\" data-act=\"movies-click\" >电影</a></div>\\n            <div><a href=\"/cinemas\" data-act=\"cinemas-click\" >影院</a></div> \\n            <div><a href=\"http://www.gewara.com\">演出</a></div>\\n            <!-- <div><a href=\"/dramas\" data-act=\"TVdramas-click\" >电视剧</a></div> -->\\n            <div><a href=\"/board\" data-act=\"board-click\"  class=\"active\" >榜单</a></div>\\n            <div><a href=\"/news\" data-act=\"hotNews-click\" >热点</a></div>\\n            <div><a href=\"/edimall\"  >商城</a></div>\\n        </div>\\n\\n        <div class=\"user-info\">\\n            <div class=\"user-avatar J-login\">\\n              <img src=\"https://p0.meituan.net/movie/7dd82a16316ab32c8359debdb04396ef2897.png\">\\n              <span class=\"caret\"></span>\\n              <ul class=\"user-menu no-login-menu\">\\n                <li><a href=\"javascript:void 0\">登录</a></li>\\n              </ul>\\n            </div>\\n        </div>\\n\\n        <form action=\"/query\" target=\"_blank\" class=\"search-form\" data-actform=\"search-click\">\\n            <input name=\"kw\" class=\"search\" type=\"search\" maxlength=\"32\" placeholder=\"找影视剧、影人、影院\" autocomplete=\"off\">\\n            <input class=\"submit\" type=\"submit\" value=\"\">\\n        </form>\\n\\n        <div class=\"app-download\">\\n          <a href=\"/app\" target=\"_blank\">\\n            <span class=\"iphone-icon\"></span>\\n            <span class=\"apptext\">APP下载</span>\\n            <span class=\"caret\"></span>\\n            <div class=\"download-icon\">\\n                <p class=\"down-title\">扫码下载APP</p>\\n                <p class=\\'down-content\\'>选座更优惠</p>\\n            </div>\\n          </a>\\n        </div>\\n    \\n  </div>\\n</div>\\n<div class=\"header-placeholder\"></div>\\n\\n<div class=\"subnav\">\\n  <ul class=\"navbar\">\\n    <li>\\n      <a data-act=\"subnav-click\" data-val=\"{subnavClick:7}\"\\n          data-state-val=\"{subnavId:7}\"\\n          class=\"active\" href=\"javascript:void(0);\"\\n      >热映口碑榜</a>\\n    </li>\\n    <li>\\n      <a data-act=\"subnav-click\" data-val=\"{subnavClick:6}\"\\n          href=\"/board/6\"\\n      >最受期待榜</a>\\n    </li>\\n    <li>\\n      <a data-act=\"subnav-click\" data-val=\"{subnavClick:1}\"\\n          href=\"/board/1\"\\n      >国内票房榜</a>\\n    </li>\\n    <li>\\n      <a data-act=\"subnav-click\" data-val=\"{subnavClick:2}\"\\n          href=\"/board/2\"\\n      >北美票房榜</a>\\n    </li>\\n    <li>\\n      <a data-act=\"subnav-click\" data-val=\"{subnavClick:4}\"\\n          href=\"/board/4\"\\n      >TOP100榜</a>\\n    </li>\\n  </ul>\\n</div>\\n\\n\\n    <div class=\"container\" id=\"app\" class=\"page-board/index\" >\\n\\n<div class=\"content\">\\n    <div class=\"wrapper\">\\n        <div class=\"main\">\\n            <p class=\"update-time\">2023-03-15<span class=\"has-fresh-text\">已更新</span></p>\\n            <p class=\"board-content\">榜单规则：将昨日国内热映的影片，按照评分从高到低排列取前10名，每天上午10点更新。相关数据来源于“猫眼专业版”及“猫眼电影库”。</p>\\n            <dl class=\"board-wrapper\">\\n                <dd>\\n                        <i class=\"board-index board-index-1\">1</i>\\n    <a href=\"/films/1434052\" title=\"保你平安\" class=\"image-link\" data-act=\"boarditem-click\" data-val=\"{movieId:1434052}\">\\n      <img src=\"//s3plus.meituan.net/v1/mss_e2821d7f0cfe4ac1bf9202ecf9590e67/cdn-prod/file:5788b470/image/loading_2.e3d934bf.png\" alt=\"\" class=\"poster-default\" />\\n      <img data-src=\"https://p0.pipi.cn/mmdb/fb73869a51b5bf7df5af33e2678d60e035cd0.jpg?imageView2/1/w/160/h/220\" alt=\"保你平安\" class=\"board-img\" />\\n    </a>\\n    <div class=\"board-item-main\">\\n      <div class=\"board-item-content\">\\n              <div class=\"movie-item-info\">\\n        <p class=\"name\"><a href=\"/films/1434052\" title=\"保你平安\" data-act=\"boarditem-click\" data-val=\"{movieId:1434052}\">保你平安</a></p>\\n        <p class=\"star\">\\n                主演：大鹏,李雪琴,尹正\\n        </p>\\n<p class=\"releasetime\">上映时间：2023-03-10</p>    </div>\\n    <div class=\"movie-item-number score-num\">\\n<p class=\"score\"><i class=\"integer\">9.</i><i class=\"fraction\">4</i></p>        \\n    </div>\\n\\n      </div>\\n    </div>\\n\\n                </dd>\\n                <dd>\\n                        <i class=\"board-index board-index-2\">2</i>\\n    <a href=\"/films/1462626\" title=\"满江红\" class=\"image-link\" data-act=\"boarditem-click\" data-val=\"{movieId:1462626}\">\\n      <img src=\"//s3plus.meituan.net/v1/mss_e2821d7f0cfe4ac1bf9202ecf9590e67/cdn-prod/file:5788b470/image/loading_2.e3d934bf.png\" alt=\"\" class=\"poster-default\" />\\n      <img data-src=\"https://p0.pipi.cn/mmdb/fb7386be71f338230f2c950d56dc71d3edec0.jpg?imageView2/1/w/160/h/220\" alt=\"满江红\" class=\"board-img\" />\\n    </a>\\n    <div class=\"board-item-main\">\\n      <div class=\"board-item-content\">\\n              <div class=\"movie-item-info\">\\n        <p class=\"name\"><a href=\"/films/1462626\" title=\"满江红\" data-act=\"boarditem-click\" data-val=\"{movieId:1462626}\">满江红</a></p>\\n        <p class=\"star\">\\n                主演：沈腾,易烊千玺,张译\\n        </p>\\n<p class=\"releasetime\">上映时间：2023-01-22</p>    </div>\\n    <div class=\"movie-item-number score-num\">\\n<p class=\"score\"><i class=\"integer\">9.</i><i class=\"fraction\">4</i></p>        \\n    </div>\\n\\n      </div>\\n    </div>\\n\\n                </dd>\\n                <dd>\\n                        <i class=\"board-index board-index-3\">3</i>\\n    <a href=\"/films/1298151\" title=\"中国乒乓之绝地反击\" class=\"image-link\" data-act=\"boarditem-click\" data-val=\"{movieId:1298151}\">\\n      <img src=\"//s3plus.meituan.net/v1/mss_e2821d7f0cfe4ac1bf9202ecf9590e67/cdn-prod/file:5788b470/image/loading_2.e3d934bf.png\" alt=\"\" class=\"poster-default\" />\\n      <img data-src=\"https://p0.pipi.cn/mmdb/fb7386bec6992321f0395b9d6e515b94a2305.jpg?imageView2/1/w/160/h/220\" alt=\"中国乒乓之绝地反击\" class=\"board-img\" />\\n    </a>\\n    <div class=\"board-item-main\">\\n      <div class=\"board-item-content\">\\n              <div class=\"movie-item-info\">\\n        <p class=\"name\"><a href=\"/films/1298151\" title=\"中国乒乓之绝地反击\" data-act=\"boarditem-click\" data-val=\"{movieId:1298151}\">中国乒乓之绝地反击</a></p>\\n        <p class=\"star\">\\n                主演：邓超,孙俪,许魏洲\\n        </p>\\n<p class=\"releasetime\">上映时间：2023-02-17</p>    </div>\\n    <div class=\"movie-item-number score-num\">\\n<p class=\"score\"><i class=\"integer\">9.</i><i class=\"fraction\">4</i></p>        \\n    </div>\\n\\n      </div>\\n    </div>\\n\\n                </dd>\\n                <dd>\\n                        <i class=\"board-index board-index-4\">4</i>\\n    <a href=\"/films/1366696\" title=\"流浪地球2\" class=\"image-link\" data-act=\"boarditem-click\" data-val=\"{movieId:1366696}\">\\n      <img src=\"//s3plus.meituan.net/v1/mss_e2821d7f0cfe4ac1bf9202ecf9590e67/cdn-prod/file:5788b470/image/loading_2.e3d934bf.png\" alt=\"\" class=\"poster-default\" />\\n      <img data-src=\"https://p0.pipi.cn/mmdb/fb73868d9ab923338f300ba4e3ad51eb64f40.jpg?imageView2/1/w/160/h/220\" alt=\"流浪地球2\" class=\"board-img\" />\\n    </a>\\n    <div class=\"board-item-main\">\\n      <div class=\"board-item-content\">\\n              <div class=\"movie-item-info\">\\n        <p class=\"name\"><a href=\"/films/1366696\" title=\"流浪地球2\" data-act=\"boarditem-click\" data-val=\"{movieId:1366696}\">流浪地球2</a></p>\\n        <p class=\"star\">\\n                主演：吴京,刘德华,李雪健\\n        </p>\\n<p class=\"releasetime\">上映时间：2023-01-22</p>    </div>\\n    <div class=\"movie-item-number score-num\">\\n<p class=\"score\"><i class=\"integer\">9.</i><i class=\"fraction\">3</i></p>        \\n    </div>\\n\\n      </div>\\n    </div>\\n\\n                </dd>\\n                <dd>\\n                        <i class=\"board-index board-index-5\">5</i>\\n    <a href=\"/films/1470074\" title=\"毒舌律师\" class=\"image-link\" data-act=\"boarditem-click\" data-val=\"{movieId:1470074}\">\\n      <img src=\"//s3plus.meituan.net/v1/mss_e2821d7f0cfe4ac1bf9202ecf9590e67/cdn-prod/file:5788b470/image/loading_2.e3d934bf.png\" alt=\"\" class=\"poster-default\" />\\n      <img data-src=\"https://p0.pipi.cn/mmdb/fb7386be71fc7e50c8af33680b909b265d8f4.jpg?imageView2/1/w/160/h/220\" alt=\"毒舌律师\" class=\"board-img\" />\\n    </a>\\n    <div class=\"board-item-main\">\\n      <div class=\"board-item-content\">\\n              <div class=\"movie-item-info\">\\n        <p class=\"name\"><a href=\"/films/1470074\" title=\"毒舌律师\" data-act=\"boarditem-click\" data-val=\"{movieId:1470074}\">毒舌律师</a></p>\\n        <p class=\"star\">\\n                主演：黄子华,谢君豪,王丹妮\\n        </p>\\n<p class=\"releasetime\">上映时间：2023-02-24</p>    </div>\\n    <div class=\"movie-item-number score-num\">\\n<p class=\"score\"><i class=\"integer\">9.</i><i class=\"fraction\">2</i></p>        \\n    </div>\\n\\n      </div>\\n    </div>\\n\\n                </dd>\\n                <dd>\\n                        <i class=\"board-index board-index-6\">6</i>\\n    <a href=\"/films/1479130\" title=\"熊出没·伴我“熊芯”\" class=\"image-link\" data-act=\"boarditem-click\" data-val=\"{movieId:1479130}\">\\n      <img src=\"//s3plus.meituan.net/v1/mss_e2821d7f0cfe4ac1bf9202ecf9590e67/cdn-prod/file:5788b470/image/loading_2.e3d934bf.png\" alt=\"\" class=\"poster-default\" />\\n      <img data-src=\"https://p0.pipi.cn/mmdb/fb73868d9abf2a17898077a200b110bcf808b.jpg?imageView2/1/w/160/h/220\" alt=\"熊出没·伴我“熊芯”\" class=\"board-img\" />\\n    </a>\\n    <div class=\"board-item-main\">\\n      <div class=\"board-item-content\">\\n              <div class=\"movie-item-info\">\\n        <p class=\"name\"><a href=\"/films/1479130\" title=\"熊出没·伴我“熊芯”\" data-act=\"boarditem-click\" data-val=\"{movieId:1479130}\">熊出没·伴我“熊芯”</a></p>\\n        <p class=\"star\">\\n                主演：张秉君,谭笑,张伟\\n        </p>\\n<p class=\"releasetime\">上映时间：2023-01-22</p>    </div>\\n    <div class=\"movie-item-number score-num\">\\n<p class=\"score\"><i class=\"integer\">9.</i><i class=\"fraction\">2</i></p>        \\n    </div>\\n\\n      </div>\\n    </div>\\n\\n                </dd>\\n                <dd>\\n                        <i class=\"board-index board-index-7\">7</i>\\n    <a href=\"/films/1308442\" title=\"拨浪鼓咚咚响\" class=\"image-link\" data-act=\"boarditem-click\" data-val=\"{movieId:1308442}\">\\n      <img src=\"//s3plus.meituan.net/v1/mss_e2821d7f0cfe4ac1bf9202ecf9590e67/cdn-prod/file:5788b470/image/loading_2.e3d934bf.png\" alt=\"\" class=\"poster-default\" />\\n      <img data-src=\"https://p0.pipi.cn/mmdb/fb7386be8ea0fa7e127a35684bc7fd4d2f1a8.jpg?imageView2/1/w/160/h/220\" alt=\"拨浪鼓咚咚响\" class=\"board-img\" />\\n    </a>\\n    <div class=\"board-item-main\">\\n      <div class=\"board-item-content\">\\n              <div class=\"movie-item-info\">\\n        <p class=\"name\"><a href=\"/films/1308442\" title=\"拨浪鼓咚咚响\" data-act=\"boarditem-click\" data-val=\"{movieId:1308442}\">拨浪鼓咚咚响</a></p>\\n        <p class=\"star\">\\n                主演：惠王军,白泽泽\\n        </p>\\n<p class=\"releasetime\">上映时间：2023-02-25</p>    </div>\\n    <div class=\"movie-item-number score-num\">\\n<p class=\"score\"><i class=\"integer\">9.</i><i class=\"fraction\">2</i></p>        \\n    </div>\\n\\n      </div>\\n    </div>\\n\\n                </dd>\\n                <dd>\\n                        <i class=\"board-index board-index-8\">8</i>\\n    <a href=\"/films/1418991\" title=\"回廊亭\" class=\"image-link\" data-act=\"boarditem-click\" data-val=\"{movieId:1418991}\">\\n      <img src=\"//s3plus.meituan.net/v1/mss_e2821d7f0cfe4ac1bf9202ecf9590e67/cdn-prod/file:5788b470/image/loading_2.e3d934bf.png\" alt=\"\" class=\"poster-default\" />\\n      <img data-src=\"https://p0.pipi.cn/mmdb/fb73869ad7c5bf9257be12a190e022145f7a2.jpg?imageView2/1/w/160/h/220\" alt=\"回廊亭\" class=\"board-img\" />\\n    </a>\\n    <div class=\"board-item-main\">\\n      <div class=\"board-item-content\">\\n              <div class=\"movie-item-info\">\\n        <p class=\"name\"><a href=\"/films/1418991\" title=\"回廊亭\" data-act=\"boarditem-click\" data-val=\"{movieId:1418991}\">回廊亭</a></p>\\n        <p class=\"star\">\\n                主演：任素汐,刘敏涛,李传缨\\n        </p>\\n<p class=\"releasetime\">上映时间：2023-03-10</p>    </div>\\n    <div class=\"movie-item-number score-num\">\\n<p class=\"score\"><i class=\"integer\">9.</i><i class=\"fraction\">1</i></p>        \\n    </div>\\n\\n      </div>\\n    </div>\\n\\n                </dd>\\n                <dd>\\n                        <i class=\"board-index board-index-9\">9</i>\\n    <a href=\"/films/248949\" title=\"印式英语\" class=\"image-link\" data-act=\"boarditem-click\" data-val=\"{movieId:248949}\">\\n      <img src=\"//s3plus.meituan.net/v1/mss_e2821d7f0cfe4ac1bf9202ecf9590e67/cdn-prod/file:5788b470/image/loading_2.e3d934bf.png\" alt=\"\" class=\"poster-default\" />\\n      <img data-src=\"https://p0.pipi.cn/mmdb/fb7386be030ddd11e5d23c86236e7e2ea55eb.jpg?imageView2/1/w/160/h/220\" alt=\"印式英语\" class=\"board-img\" />\\n    </a>\\n    <div class=\"board-item-main\">\\n      <div class=\"board-item-content\">\\n              <div class=\"movie-item-info\">\\n        <p class=\"name\"><a href=\"/films/248949\" title=\"印式英语\" data-act=\"boarditem-click\" data-val=\"{movieId:248949}\">印式英语</a></p>\\n        <p class=\"star\">\\n                主演：希里黛玉,阿迪勒·侯赛因,梅迪·内博\\n        </p>\\n<p class=\"releasetime\">上映时间：2023-02-24</p>    </div>\\n    <div class=\"movie-item-number score-num\">\\n<p class=\"score\"><i class=\"integer\">9.</i><i class=\"fraction\">1</i></p>        \\n    </div>\\n\\n      </div>\\n    </div>\\n\\n                </dd>\\n                <dd>\\n                        <i class=\"board-index board-index-10\">10</i>\\n    <a href=\"/films/343521\" title=\"深海\" class=\"image-link\" data-act=\"boarditem-click\" data-val=\"{movieId:343521}\">\\n      <img src=\"//s3plus.meituan.net/v1/mss_e2821d7f0cfe4ac1bf9202ecf9590e67/cdn-prod/file:5788b470/image/loading_2.e3d934bf.png\" alt=\"\" class=\"poster-default\" />\\n      <img data-src=\"https://p0.pipi.cn/mmdb/fb73868d9ab51b87a95bf19eb63d497ad565a.jpg?imageView2/1/w/160/h/220\" alt=\"深海\" class=\"board-img\" />\\n    </a>\\n    <div class=\"board-item-main\">\\n      <div class=\"board-item-content\">\\n              <div class=\"movie-item-info\">\\n        <p class=\"name\"><a href=\"/films/343521\" title=\"深海\" data-act=\"boarditem-click\" data-val=\"{movieId:343521}\">深海</a></p>\\n        <p class=\"star\">\\n                主演：苏鑫,王亭文,滕奎兴\\n        </p>\\n<p class=\"releasetime\">上映时间：2023-01-22</p>    </div>\\n    <div class=\"movie-item-number score-num\">\\n<p class=\"score\"><i class=\"integer\">9.</i><i class=\"fraction\">0</i></p>        \\n    </div>\\n\\n      </div>\\n    </div>\\n\\n                </dd>\\n            </dl>\\n\\n        </div>\\n    </div>\\n</div>\\n\\n    </div>\\n\\n<div class=\"footer\">\\n  <p class=\"friendly-links\">\\n    关于猫眼 :\\n    <a href=\"https://ir.maoyan.com/Company-Information\">关于我们</a>\\n    <span></span>\\n    <a href=\"https://ir.maoyan.com/Board-Members\">董事会成员</a>\\n    <span></span>\\n    <a href=\"https://ir.maoyan.com\">投资者关系</a>\\n    &nbsp;&nbsp;&nbsp;&nbsp;\\n    友情链接 :\\n    <a href=\"http://www.meituan.com\" data-query=\"utm_source=wwwmaoyan\">美团网</a>\\n    <span></span>\\n    <a href=\"http://www.gewara.com\" data-query=\"utm_source=wwwmaoyan\">格瓦拉</a>\\n    <span></span>\\n    <a href=\"http://i.meituan.com/client\" data-query=\"utm_source=wwwmaoyan\">美团下载</a>\\n    <span></span>\\n    <a href=\"https://www.huanxi.com\" data-query=\"utm_source=maoyan_pc\">欢喜首映</a>\\n  </p>\\n  <p class=\"friendly-links\">\\n    商务合作邮箱：v@maoyan.com\\n    客服电话：10105335\\n    违法和不良信息/涉未成年人有害信息举报电话：4006018900\\n  </p>\\n  <p class=\"friendly-links\">\\n    用户举报/涉未成年人有害信息举报邮箱：tousujubao@meituan.com\\n    舞弊线索举报邮箱：wubijubao@maoyan.com\\n  </p>\\n  <p class=\"friendly-links  credentials\">\\n    <a href=\"/about/licence/1\" target=\"_blank\">中华人民共和国增值电信业务经营许可证 京B2-20190350</a>\\n    <span></span>\\n    <a href=\"/about/licence/4\" target=\"_blank\">营业性演出许可证 京演（机构）（2019）4094号</a>\\n  </p>\\n  <p class=\"friendly-links  credentials\">\\n    <a href=\"/about/licence/3\" target=\"_blank\">广播电视节目制作经营许可证 （京）字第08478号</a>\\n    <span></span>\\n    <a href=\"/about/licence/2\" target=\"_blank\">网络文化经营许可证 京网文（2022）1334-041号 </a>\\n  </p>\\n  <p class=\"friendly-links  credentials\">\\n    <a href=\"/about/licence/6\" target=\"_blank\">艺术品经营单位备案证明  京东艺（2022）0095号 </a>\\n  </p>\\n  <p class=\"friendly-links  credentials\">\\n    <a href=\"/rules/agreement\" target=\"_blank\">猫眼用户服务协议 </a>\\n    <span></span>\\n    <a href=\"/rules/rule\" target=\"_blank\">猫眼平台交易规则总则 </a>\\n    <span></span>\\n    <a href=\"/rules/privacy\" target=\"_blank\">隐私政策 </a>\\n  </p>\\n  <p class=\"friendly-links  credentials\">\\n    <a href=\"http://www.beian.gov.cn/portal/registerSystemInfo?recordcode=11010102003232\">京公网安备\\n      11010102003232号</a>\\n    <span></span>\\n    <a href=\"http://beian.miit.gov.cn/\">京ICP备16022489号-1</a>\\n  </p>\\n  <p>北京猫眼文化传媒有限公司</p>\\n  <p>\\n    &copy;<span class=\"my-footer-year\">2016</span>\\n    猫眼电影 www.maoyan.com</p>\\n  <div class=\"certificate\">\\n    <a href=\"http://sq.ccm.gov.cn:80/ccnt/sczr/service/business/emark/toDetail/350CF8BCA8416C4FE0530140A8C0957E\">\\n      <img src=\"https://p0.meituan.net/moviemachine/e54374ccf134d1f7b2c5b075a74fca525326.png\" />\\n    </a>\\n    <a href=\"/about/licence/5\" target=\"_blank\">\\n      <img src=\"https://p1.meituan.net/moviemachine/805f605d5cf1b1a02a4e3a5e29df003b8376.png\" />\\n    </a>\\n    <a href=\"https://www.12377.cn\">\\n      <img src=\"https://p0.meituan.net/scarlett/3cd2a9b7dc179531d20d27a5fd686e783787.png\" />\\n    </a>\\n  </div>\\n</div>\\n\\n    <script crossorigin=\"anonymous\" src=\"//www.dpfile.com/app/owl/static/owl_1.7.11.js\"></script>\\n    <script>\\n      Owl.start({\\n        project: \\'com.sankuai.myfe.mywww.media\\',\\n        pageUrl: location.href.split(\\'?\\')[0].replace(/\\\\/\\\\d+/g, \\'/:id\\'),\\n        devMode: false\\n      })\\n    </script>\\n    <!--[if IE 8]><script crossorigin=\"anonymous\" src=\"//s3plus.meituan.net/v1/mss_e2821d7f0cfe4ac1bf9202ecf9590e67/cdn-prod/file:5788b470/es5-shim.bbad933f.js\"></script><![endif]-->\\n    <!--[if IE 8]><script crossorigin=\"anonymous\" src=\"//s3plus.meituan.net/v1/mss_e2821d7f0cfe4ac1bf9202ecf9590e67/cdn-prod/file:5788b470/es5-sham.221f40f5.js\"></script><![endif]-->\\n    <script crossorigin=\"anonymous\" src=\"//s3plus.meituan.net/v1/mss_e2821d7f0cfe4ac1bf9202ecf9590e67/cdn-prod/file:5788b470/common.bc443708.js\"></script>\\n<script crossorigin=\"anonymous\" src=\"//s3plus.meituan.net/v1/mss_e2821d7f0cfe4ac1bf9202ecf9590e67/cdn-prod/file:5788b470/board-index.de9ba960.js\"></script>\\n    <script src=\"//lx.meituan.net/lx.js\" type=\"text/javascript\" charset=\"utf-8\" async></script>\\n</body>\\n</html>\\n'"
      ]
     },
     "execution_count": 2,
     "metadata": {},
     "output_type": "execute_result"
    }
   ],
   "source": [
    "html"
   ]
  },
  {
   "cell_type": "code",
   "execution_count": 26,
   "id": "b7c14a62",
   "metadata": {},
   "outputs": [],
   "source": [
    "namere = re.compile('alt=\"(.*?)\"')\n",
    "name = namere.findall(html)\n",
    "name_list = []\n",
    "for i in name:\n",
    "    if i=='':\n",
    "        continue\n",
    "    else:\n",
    "        name_list.append(i)\n",
    "del name"
   ]
  },
  {
   "cell_type": "code",
   "execution_count": 59,
   "id": "c2143250",
   "metadata": {},
   "outputs": [],
   "source": [
    "integer_score_re = re.compile('<i class=\"integer\">([0-9.]+)</i>')\n",
    "integer = integer_score_re.findall(html)\n",
    "frac_score_re = re.compile('<i class=\"fraction\">([0-9.]+)</i>')\n",
    "frac = frac_score_re.findall(html)\n",
    "score_list = []\n",
    "for i in range(len(integer)):\n",
    "    score = integer[i]+frac[i]\n",
    "    score_list.append(score)"
   ]
  },
  {
   "cell_type": "code",
   "execution_count": 72,
   "id": "ed907c5f",
   "metadata": {
    "scrolled": true
   },
   "outputs": [],
   "source": [
    "starre = re.compile('<p class=\"star\">\\n(.*?)\\n')\n",
    "star = starre.findall(html)\n",
    "star_list = []\n",
    "for i in star:\n",
    "    star_list.append(i.strip())\n",
    "del star"
   ]
  },
  {
   "cell_type": "code",
   "execution_count": 73,
   "id": "682af3b1",
   "metadata": {},
   "outputs": [],
   "source": [
    "datere = re.compile('<p class=\"releasetime\">(.*?)</p>')\n",
    "date = datere.findall(html)"
   ]
  },
  {
   "cell_type": "code",
   "execution_count": 76,
   "id": "99e77128",
   "metadata": {},
   "outputs": [],
   "source": [
    "data_list = []\n",
    "for i in range(len(date)):\n",
    "    data_list.append([name_list[i],score_list[i],star_list[i],date[i]])"
   ]
  },
  {
   "cell_type": "code",
   "execution_count": 80,
   "id": "5890ed4e",
   "metadata": {},
   "outputs": [],
   "source": [
    "df = pd.DataFrame(data_list,columns=['Name','Score','Starring','Release_time']).set_index('Name')"
   ]
  },
  {
   "cell_type": "code",
   "execution_count": 81,
   "id": "be47a579",
   "metadata": {},
   "outputs": [
    {
     "data": {
      "text/html": [
       "<div>\n",
       "<style scoped>\n",
       "    .dataframe tbody tr th:only-of-type {\n",
       "        vertical-align: middle;\n",
       "    }\n",
       "\n",
       "    .dataframe tbody tr th {\n",
       "        vertical-align: top;\n",
       "    }\n",
       "\n",
       "    .dataframe thead th {\n",
       "        text-align: right;\n",
       "    }\n",
       "</style>\n",
       "<table border=\"1\" class=\"dataframe\">\n",
       "  <thead>\n",
       "    <tr style=\"text-align: right;\">\n",
       "      <th></th>\n",
       "      <th>Score</th>\n",
       "      <th>Starring</th>\n",
       "      <th>Release_time</th>\n",
       "    </tr>\n",
       "    <tr>\n",
       "      <th>Name</th>\n",
       "      <th></th>\n",
       "      <th></th>\n",
       "      <th></th>\n",
       "    </tr>\n",
       "  </thead>\n",
       "  <tbody>\n",
       "    <tr>\n",
       "      <th>保你平安</th>\n",
       "      <td>9.4</td>\n",
       "      <td>主演：大鹏,李雪琴,尹正</td>\n",
       "      <td>上映时间：2023-03-10</td>\n",
       "    </tr>\n",
       "    <tr>\n",
       "      <th>满江红</th>\n",
       "      <td>9.4</td>\n",
       "      <td>主演：沈腾,易烊千玺,张译</td>\n",
       "      <td>上映时间：2023-01-22</td>\n",
       "    </tr>\n",
       "    <tr>\n",
       "      <th>中国乒乓之绝地反击</th>\n",
       "      <td>9.4</td>\n",
       "      <td>主演：邓超,孙俪,许魏洲</td>\n",
       "      <td>上映时间：2023-02-17</td>\n",
       "    </tr>\n",
       "    <tr>\n",
       "      <th>流浪地球2</th>\n",
       "      <td>9.3</td>\n",
       "      <td>主演：吴京,刘德华,李雪健</td>\n",
       "      <td>上映时间：2023-01-22</td>\n",
       "    </tr>\n",
       "    <tr>\n",
       "      <th>毒舌律师</th>\n",
       "      <td>9.2</td>\n",
       "      <td>主演：黄子华,谢君豪,王丹妮</td>\n",
       "      <td>上映时间：2023-02-24</td>\n",
       "    </tr>\n",
       "    <tr>\n",
       "      <th>熊出没·伴我“熊芯”</th>\n",
       "      <td>9.2</td>\n",
       "      <td>主演：张秉君,谭笑,张伟</td>\n",
       "      <td>上映时间：2023-01-22</td>\n",
       "    </tr>\n",
       "    <tr>\n",
       "      <th>拨浪鼓咚咚响</th>\n",
       "      <td>9.2</td>\n",
       "      <td>主演：惠王军,白泽泽</td>\n",
       "      <td>上映时间：2023-02-25</td>\n",
       "    </tr>\n",
       "    <tr>\n",
       "      <th>回廊亭</th>\n",
       "      <td>9.1</td>\n",
       "      <td>主演：任素汐,刘敏涛,李传缨</td>\n",
       "      <td>上映时间：2023-03-10</td>\n",
       "    </tr>\n",
       "    <tr>\n",
       "      <th>印式英语</th>\n",
       "      <td>9.1</td>\n",
       "      <td>主演：希里黛玉,阿迪勒·侯赛因,梅迪·内博</td>\n",
       "      <td>上映时间：2023-02-24</td>\n",
       "    </tr>\n",
       "    <tr>\n",
       "      <th>深海</th>\n",
       "      <td>9.0</td>\n",
       "      <td>主演：苏鑫,王亭文,滕奎兴</td>\n",
       "      <td>上映时间：2023-01-22</td>\n",
       "    </tr>\n",
       "  </tbody>\n",
       "</table>\n",
       "</div>"
      ],
      "text/plain": [
       "           Score               Starring     Release_time\n",
       "Name                                                    \n",
       "保你平安         9.4           主演：大鹏,李雪琴,尹正  上映时间：2023-03-10\n",
       "满江红          9.4          主演：沈腾,易烊千玺,张译  上映时间：2023-01-22\n",
       "中国乒乓之绝地反击    9.4           主演：邓超,孙俪,许魏洲  上映时间：2023-02-17\n",
       "流浪地球2        9.3          主演：吴京,刘德华,李雪健  上映时间：2023-01-22\n",
       "毒舌律师         9.2         主演：黄子华,谢君豪,王丹妮  上映时间：2023-02-24\n",
       "熊出没·伴我“熊芯”   9.2           主演：张秉君,谭笑,张伟  上映时间：2023-01-22\n",
       "拨浪鼓咚咚响       9.2             主演：惠王军,白泽泽  上映时间：2023-02-25\n",
       "回廊亭          9.1         主演：任素汐,刘敏涛,李传缨  上映时间：2023-03-10\n",
       "印式英语         9.1  主演：希里黛玉,阿迪勒·侯赛因,梅迪·内博  上映时间：2023-02-24\n",
       "深海           9.0          主演：苏鑫,王亭文,滕奎兴  上映时间：2023-01-22"
      ]
     },
     "execution_count": 81,
     "metadata": {},
     "output_type": "execute_result"
    }
   ],
   "source": [
    "df"
   ]
  }
 ],
 "metadata": {
  "kernelspec": {
   "display_name": "Python 3 (ipykernel)",
   "language": "python",
   "name": "python3"
  },
  "language_info": {
   "codemirror_mode": {
    "name": "ipython",
    "version": 3
   },
   "file_extension": ".py",
   "mimetype": "text/x-python",
   "name": "python",
   "nbconvert_exporter": "python",
   "pygments_lexer": "ipython3",
   "version": "3.10.10"
  }
 },
 "nbformat": 4,
 "nbformat_minor": 5
}
